{
  "cells": [
    {
      "cell_type": "code",
      "source": [
        "!apt-get update\n",
        "!apt install chromium-chromedriver\n",
        "!pip install selenium\n"
      ],
      "metadata": {
        "colab": {
          "base_uri": "https://localhost:8080/"
        },
        "id": "eTWVOsEkOZaM",
        "outputId": "314389ed-a5f5-4254-a073-e6d3fe11efbc"
      },
      "id": "eTWVOsEkOZaM",
      "execution_count": 8,
      "outputs": [
        {
          "output_type": "stream",
          "name": "stdout",
          "text": [
            "\r0% [Working]\r            \rHit:1 https://cloud.r-project.org/bin/linux/ubuntu jammy-cran40/ InRelease\n",
            "\r0% [Connecting to archive.ubuntu.com (185.125.190.83)] [Connecting to security.ubuntu.com] [Connecte\r                                                                                                    \rHit:2 https://developer.download.nvidia.com/compute/cuda/repos/ubuntu2204/x86_64  InRelease\n",
            "\r0% [Connecting to archive.ubuntu.com (185.125.190.83)] [Connecting to security.ubuntu.com (91.189.91\r                                                                                                    \rHit:3 http://security.ubuntu.com/ubuntu jammy-security InRelease\n",
            "Ign:4 https://r2u.stat.illinois.edu/ubuntu jammy InRelease\n",
            "Hit:5 http://archive.ubuntu.com/ubuntu jammy InRelease\n",
            "Hit:6 https://r2u.stat.illinois.edu/ubuntu jammy Release\n",
            "Hit:7 http://archive.ubuntu.com/ubuntu jammy-updates InRelease\n",
            "Hit:8 http://archive.ubuntu.com/ubuntu jammy-backports InRelease\n",
            "Hit:9 https://ppa.launchpadcontent.net/deadsnakes/ppa/ubuntu jammy InRelease\n",
            "Hit:10 https://ppa.launchpadcontent.net/graphics-drivers/ppa/ubuntu jammy InRelease\n",
            "Hit:12 https://ppa.launchpadcontent.net/ubuntugis/ppa/ubuntu jammy InRelease\n",
            "Reading package lists... Done\n",
            "W: Skipping acquire of configured file 'main/source/Sources' as repository 'https://r2u.stat.illinois.edu/ubuntu jammy InRelease' does not seem to provide it (sources.list entry misspelt?)\n",
            "Reading package lists... Done\n",
            "Building dependency tree... Done\n",
            "Reading state information... Done\n",
            "chromium-chromedriver is already the newest version (1:85.0.4183.83-0ubuntu2.22.04.1).\n",
            "0 upgraded, 0 newly installed, 0 to remove and 46 not upgraded.\n",
            "Requirement already satisfied: selenium in /usr/local/lib/python3.10/dist-packages (4.23.0)\n",
            "Requirement already satisfied: urllib3[socks]<3,>=1.26 in /usr/local/lib/python3.10/dist-packages (from selenium) (2.0.7)\n",
            "Requirement already satisfied: trio~=0.17 in /usr/local/lib/python3.10/dist-packages (from selenium) (0.26.0)\n",
            "Requirement already satisfied: trio-websocket~=0.9 in /usr/local/lib/python3.10/dist-packages (from selenium) (0.11.1)\n",
            "Requirement already satisfied: certifi>=2021.10.8 in /usr/local/lib/python3.10/dist-packages (from selenium) (2024.7.4)\n",
            "Requirement already satisfied: typing_extensions~=4.9.0 in /usr/local/lib/python3.10/dist-packages (from selenium) (4.9.0)\n",
            "Requirement already satisfied: websocket-client==1.8.0 in /usr/local/lib/python3.10/dist-packages (from selenium) (1.8.0)\n",
            "Requirement already satisfied: attrs>=23.2.0 in /usr/local/lib/python3.10/dist-packages (from trio~=0.17->selenium) (23.2.0)\n",
            "Requirement already satisfied: sortedcontainers in /usr/local/lib/python3.10/dist-packages (from trio~=0.17->selenium) (2.4.0)\n",
            "Requirement already satisfied: idna in /usr/local/lib/python3.10/dist-packages (from trio~=0.17->selenium) (3.7)\n",
            "Requirement already satisfied: outcome in /usr/local/lib/python3.10/dist-packages (from trio~=0.17->selenium) (1.3.0.post0)\n",
            "Requirement already satisfied: sniffio>=1.3.0 in /usr/local/lib/python3.10/dist-packages (from trio~=0.17->selenium) (1.3.1)\n",
            "Requirement already satisfied: exceptiongroup in /usr/local/lib/python3.10/dist-packages (from trio~=0.17->selenium) (1.2.2)\n",
            "Requirement already satisfied: wsproto>=0.14 in /usr/local/lib/python3.10/dist-packages (from trio-websocket~=0.9->selenium) (1.2.0)\n",
            "Requirement already satisfied: pysocks!=1.5.7,<2.0,>=1.5.6 in /usr/local/lib/python3.10/dist-packages (from urllib3[socks]<3,>=1.26->selenium) (1.7.1)\n",
            "Requirement already satisfied: h11<1,>=0.9.0 in /usr/local/lib/python3.10/dist-packages (from wsproto>=0.14->trio-websocket~=0.9->selenium) (0.14.0)\n"
          ]
        }
      ]
    },
    {
      "cell_type": "code",
      "execution_count": 9,
      "id": "a345d0a9",
      "metadata": {
        "id": "a345d0a9"
      },
      "outputs": [],
      "source": [
        "import requests\n",
        "from bs4 import BeautifulSoup as bs\n",
        "import lxml\n",
        "from selenium import webdriver\n",
        "from selenium.webdriver.chrome.options import Options\n",
        "import time\n",
        "import pandas as pd\n",
        "import random\n"
      ]
    },
    {
      "cell_type": "code",
      "source": [
        "# prompt: webdriver chrome functions does not accept options parameter\n",
        "\n",
        "import requests\n",
        "from bs4 import BeautifulSoup as bs\n",
        "import lxml\n",
        "from selenium import webdriver\n",
        "from selenium.webdriver.chrome.options import Options\n",
        "import time\n",
        "import pandas as pd\n",
        "import random\n",
        "\n",
        "!apt-get update\n",
        "!apt install chromium-chromedriver\n",
        "!pip install selenium\n",
        "\n",
        "chrome_options = webdriver.ChromeOptions()\n",
        "chrome_options.add_argument('--headless')\n",
        "chrome_options.add_argument('--no-sandbox')\n",
        "chrome_options.add_argument('--disable-dev-shm-usage')\n",
        "driver = webdriver.Chrome(options=chrome_options)\n"
      ],
      "metadata": {
        "colab": {
          "base_uri": "https://localhost:8080/"
        },
        "id": "0JXIF1OQPynN",
        "outputId": "c810e147-b8b3-4223-84c2-c6577c0aab75"
      },
      "id": "0JXIF1OQPynN",
      "execution_count": 10,
      "outputs": [
        {
          "output_type": "stream",
          "name": "stdout",
          "text": [
            "\r0% [Working]\r            \rHit:1 http://security.ubuntu.com/ubuntu jammy-security InRelease\n",
            "\r0% [Connecting to archive.ubuntu.com (185.125.190.83)] [Connected to cloud.r-project.org (52.85.151.\r                                                                                                    \rHit:2 https://cloud.r-project.org/bin/linux/ubuntu jammy-cran40/ InRelease\n",
            "\r0% [Connecting to archive.ubuntu.com (185.125.190.83)] [Connecting to r2u.stat.illinois.edu (192.17.\r                                                                                                    \rHit:3 https://developer.download.nvidia.com/compute/cuda/repos/ubuntu2204/x86_64  InRelease\n",
            "\r0% [Waiting for headers] [Connected to r2u.stat.illinois.edu (192.17.190.167)] [Connected to ppa.lau\r                                                                                                    \rHit:4 http://archive.ubuntu.com/ubuntu jammy InRelease\n",
            "Ign:5 https://r2u.stat.illinois.edu/ubuntu jammy InRelease\n",
            "Hit:6 http://archive.ubuntu.com/ubuntu jammy-updates InRelease\n",
            "Hit:7 https://r2u.stat.illinois.edu/ubuntu jammy Release\n",
            "Hit:8 http://archive.ubuntu.com/ubuntu jammy-backports InRelease\n",
            "Hit:9 https://ppa.launchpadcontent.net/deadsnakes/ppa/ubuntu jammy InRelease\n",
            "Hit:10 https://ppa.launchpadcontent.net/graphics-drivers/ppa/ubuntu jammy InRelease\n",
            "Hit:11 https://ppa.launchpadcontent.net/ubuntugis/ppa/ubuntu jammy InRelease\n",
            "Reading package lists... Done\n",
            "W: Skipping acquire of configured file 'main/source/Sources' as repository 'https://r2u.stat.illinois.edu/ubuntu jammy InRelease' does not seem to provide it (sources.list entry misspelt?)\n",
            "Reading package lists... Done\n",
            "Building dependency tree... Done\n",
            "Reading state information... Done\n",
            "chromium-chromedriver is already the newest version (1:85.0.4183.83-0ubuntu2.22.04.1).\n",
            "0 upgraded, 0 newly installed, 0 to remove and 46 not upgraded.\n",
            "Requirement already satisfied: selenium in /usr/local/lib/python3.10/dist-packages (4.23.0)\n",
            "Requirement already satisfied: urllib3[socks]<3,>=1.26 in /usr/local/lib/python3.10/dist-packages (from selenium) (2.0.7)\n",
            "Requirement already satisfied: trio~=0.17 in /usr/local/lib/python3.10/dist-packages (from selenium) (0.26.0)\n",
            "Requirement already satisfied: trio-websocket~=0.9 in /usr/local/lib/python3.10/dist-packages (from selenium) (0.11.1)\n",
            "Requirement already satisfied: certifi>=2021.10.8 in /usr/local/lib/python3.10/dist-packages (from selenium) (2024.7.4)\n",
            "Requirement already satisfied: typing_extensions~=4.9.0 in /usr/local/lib/python3.10/dist-packages (from selenium) (4.9.0)\n",
            "Requirement already satisfied: websocket-client==1.8.0 in /usr/local/lib/python3.10/dist-packages (from selenium) (1.8.0)\n",
            "Requirement already satisfied: attrs>=23.2.0 in /usr/local/lib/python3.10/dist-packages (from trio~=0.17->selenium) (23.2.0)\n",
            "Requirement already satisfied: sortedcontainers in /usr/local/lib/python3.10/dist-packages (from trio~=0.17->selenium) (2.4.0)\n",
            "Requirement already satisfied: idna in /usr/local/lib/python3.10/dist-packages (from trio~=0.17->selenium) (3.7)\n",
            "Requirement already satisfied: outcome in /usr/local/lib/python3.10/dist-packages (from trio~=0.17->selenium) (1.3.0.post0)\n",
            "Requirement already satisfied: sniffio>=1.3.0 in /usr/local/lib/python3.10/dist-packages (from trio~=0.17->selenium) (1.3.1)\n",
            "Requirement already satisfied: exceptiongroup in /usr/local/lib/python3.10/dist-packages (from trio~=0.17->selenium) (1.2.2)\n",
            "Requirement already satisfied: wsproto>=0.14 in /usr/local/lib/python3.10/dist-packages (from trio-websocket~=0.9->selenium) (1.2.0)\n",
            "Requirement already satisfied: pysocks!=1.5.7,<2.0,>=1.5.6 in /usr/local/lib/python3.10/dist-packages (from urllib3[socks]<3,>=1.26->selenium) (1.7.1)\n",
            "Requirement already satisfied: h11<1,>=0.9.0 in /usr/local/lib/python3.10/dist-packages (from wsproto>=0.14->trio-websocket~=0.9->selenium) (0.14.0)\n"
          ]
        }
      ]
    },
    {
      "cell_type": "markdown",
      "id": "0dbf5f51",
      "metadata": {
        "id": "0dbf5f51"
      },
      "source": [
        "## Getting links of each product"
      ]
    },
    {
      "cell_type": "code",
      "execution_count": 26,
      "id": "f1b26ccb",
      "metadata": {
        "colab": {
          "base_uri": "https://localhost:8080/"
        },
        "id": "f1b26ccb",
        "outputId": "0e6256bc-d300-4446-c71a-dae244643589"
      },
      "outputs": [
        {
          "name": "stdout",
          "output_type": "stream",
          "text": [
            "enter the number of pages you want to scrape 25\n"
          ]
        }
      ],
      "source": [
        "keyword = 'laptop'\n",
        "page = int(input('enter the number of pages you want to scrape '))\n",
        "links = []\n",
        "for page_no in range(1,int(page+1)):\n",
        "    options = Options()\n",
        "    options.add_argument('--headless')\n",
        "    options.add_argument('--disable-gpu')\n",
        "    options.add_argument('--no-sandbox')\n",
        "    options.add_argument('--disable-dev-shm-usage')\n",
        "    driver = webdriver.Chrome(options=options)\n",
        "    #headers = {'user-agent':user_agent}\n",
        "    url =f\"https://www.amazon.in/s?k={keyword}&page={page_no}&qid=1638731354&ref=sr_pg_{page_no}\"\n",
        "    driver.get(url)\n",
        "    time.sleep(1)\n",
        "\n",
        "    source_code = driver.page_source\n",
        "    driver.quit()\n",
        "    response = requests.get(url).content\n",
        "    soup = bs(source_code,'lxml')\n",
        "    all_product_soup = soup.findAll('a',attrs={\"class\":\"a-link-normal s-underline-text s-underline-link-text s-link-style a-text-normal\"})\n",
        "    for x in all_product_soup:\n",
        "        links.append(x.attrs['href'] )"
      ]
    },
    {
      "cell_type": "code",
      "source": [
        "links"
      ],
      "metadata": {
        "colab": {
          "base_uri": "https://localhost:8080/"
        },
        "id": "vcMiUyaYSs_n",
        "outputId": "281253a5-f2e1-42e0-aae5-82e51ece2d07"
      },
      "id": "vcMiUyaYSs_n",
      "execution_count": 27,
      "outputs": [
        {
          "output_type": "execute_result",
          "data": {
            "text/plain": [
              "['/Lenovo-Microsoft-Lifetime-Dual-core-Ethernet/dp/B0CR8VHCSV/ref=sr_1_17?dib=eyJ2IjoiMSJ9.YUnmx2YELa7H4kpM8JQeLDWYLym1lFFZnujgcEBkyI16A83rMbMptczD8XbistNUGD_7307nHxP2z4F14obhvdsnGBG5kgpxtz-wcD-_JOH3Isi3ldUStpsknUyYNaMkBheWAkdplQqe-EApU7pWlSWt1J87MXsD6CIt74UVtMi0v-4Cnmc5z6PmYWpmqHpr2Ug3DRcQdn7GQfwWn0gM0pAEM1PClAArYDpv_gy18zc.1_CbtjcfIzpXADpMH_3_PxukibIE1p6WZjMsD4vL1FI&dib_tag=se&keywords=laptop&qid=1721749179&sr=8-17',\n",
              " '/Lenovo-IdeaPad-39-62cm-300nits-82K20289IN/dp/B0CL5L59Z9/ref=sr_1_18?dib=eyJ2IjoiMSJ9.YUnmx2YELa7H4kpM8JQeLDWYLym1lFFZnujgcEBkyI16A83rMbMptczD8XbistNUGD_7307nHxP2z4F14obhvdsnGBG5kgpxtz-wcD-_JOH3Isi3ldUStpsknUyYNaMkBheWAkdplQqe-EApU7pWlSWt1J87MXsD6CIt74UVtMi0v-4Cnmc5z6PmYWpmqHpr2Ug3DRcQdn7GQfwWn0gM0pAEM1PClAArYDpv_gy18zc.1_CbtjcfIzpXADpMH_3_PxukibIE1p6WZjMsD4vL1FI&dib_tag=se&keywords=laptop&qid=1721749179&sr=8-18',\n",
              " '/Refurbished-Lenovo-ThinkPad-Windows-Graphics/dp/B0CR496TBN/ref=sr_1_19?dib=eyJ2IjoiMSJ9.YUnmx2YELa7H4kpM8JQeLDWYLym1lFFZnujgcEBkyI16A83rMbMptczD8XbistNUGD_7307nHxP2z4F14obhvdsnGBG5kgpxtz-wcD-_JOH3Isi3ldUStpsknUyYNaMkBheWAkdplQqe-EApU7pWlSWt1J87MXsD6CIt74UVtMi0v-4Cnmc5z6PmYWpmqHpr2Ug3DRcQdn7GQfwWn0gM0pAEM1PClAArYDpv_gy18zc.1_CbtjcfIzpXADpMH_3_PxukibIE1p6WZjMsD4vL1FI&dib_tag=se&keywords=laptop&qid=1721749179&sr=8-19',\n",
              " '/HP-i5-1334U-15-6-inch-graphics-speakers/dp/B0CTKHG3F6/ref=sr_1_20?dib=eyJ2IjoiMSJ9.YUnmx2YELa7H4kpM8JQeLDWYLym1lFFZnujgcEBkyI16A83rMbMptczD8XbistNUGD_7307nHxP2z4F14obhvdsnGBG5kgpxtz-wcD-_JOH3Isi3ldUStpsknUyYNaMkBheWAkdplQqe-EApU7pWlSWt1J87MXsD6CIt74UVtMi0v-4Cnmc5z6PmYWpmqHpr2Ug3DRcQdn7GQfwWn0gM0pAEM1PClAArYDpv_gy18zc.1_CbtjcfIzpXADpMH_3_PxukibIE1p6WZjMsD4vL1FI&dib_tag=se&keywords=laptop&qid=1721749179&sr=8-20',\n",
              " '/Acer-i5-1235U-Windows-Graphics-AL15-52/dp/B0CLTW4D7T/ref=sr_1_21?dib=eyJ2IjoiMSJ9.YUnmx2YELa7H4kpM8JQeLDWYLym1lFFZnujgcEBkyI16A83rMbMptczD8XbistNUGD_7307nHxP2z4F14obhvdsnGBG5kgpxtz-wcD-_JOH3Isi3ldUStpsknUyYNaMkBheWAkdplQqe-EApU7pWlSWt1J87MXsD6CIt74UVtMi0v-4Cnmc5z6PmYWpmqHpr2Ug3DRcQdn7GQfwWn0gM0pAEM1PClAArYDpv_gy18zc.1_CbtjcfIzpXADpMH_3_PxukibIE1p6WZjMsD4vL1FI&dib_tag=se&keywords=laptop&qid=1721749179&sr=8-21',\n",
              " '/Lenovo-IdeaPad-39-62cm-Warranty-82RK006DIN/dp/B0B4JPC8GT/ref=sr_1_22?dib=eyJ2IjoiMSJ9.YUnmx2YELa7H4kpM8JQeLDWYLym1lFFZnujgcEBkyI16A83rMbMptczD8XbistNUGD_7307nHxP2z4F14obhvdsnGBG5kgpxtz-wcD-_JOH3Isi3ldUStpsknUyYNaMkBheWAkdplQqe-EApU7pWlSWt1J87MXsD6CIt74UVtMi0v-4Cnmc5z6PmYWpmqHpr2Ug3DRcQdn7GQfwWn0gM0pAEM1PClAArYDpv_gy18zc.1_CbtjcfIzpXADpMH_3_PxukibIE1p6WZjMsD4vL1FI&dib_tag=se&keywords=laptop&qid=1721749179&sr=8-22',\n",
              " '/Apple-MacBook-Chip-13-inch-256GB/dp/B08N5W4NNB/ref=sr_1_23?dib=eyJ2IjoiMSJ9.YUnmx2YELa7H4kpM8JQeLDWYLym1lFFZnujgcEBkyI16A83rMbMptczD8XbistNUGD_7307nHxP2z4F14obhvdsnGBG5kgpxtz-wcD-_JOH3Isi3ldUStpsknUyYNaMkBheWAkdplQqe-EApU7pWlSWt1J87MXsD6CIt74UVtMi0v-4Cnmc5z6PmYWpmqHpr2Ug3DRcQdn7GQfwWn0gM0pAEM1PClAArYDpv_gy18zc.1_CbtjcfIzpXADpMH_3_PxukibIE1p6WZjMsD4vL1FI&dib_tag=se&keywords=laptop&qid=1721749179&sr=8-23',\n",
              " '/HP-i5-1235U-15-6-inch-Anti-Glare-15s-fy5007TU/dp/B0CJBP38HR/ref=sr_1_24?dib=eyJ2IjoiMSJ9.YUnmx2YELa7H4kpM8JQeLDWYLym1lFFZnujgcEBkyI16A83rMbMptczD8XbistNUGD_7307nHxP2z4F14obhvdsnGBG5kgpxtz-wcD-_JOH3Isi3ldUStpsknUyYNaMkBheWAkdplQqe-EApU7pWlSWt1J87MXsD6CIt74UVtMi0v-4Cnmc5z6PmYWpmqHpr2Ug3DRcQdn7GQfwWn0gM0pAEM1PClAArYDpv_gy18zc.1_CbtjcfIzpXADpMH_3_PxukibIE1p6WZjMsD4vL1FI&dib_tag=se&keywords=laptop&qid=1721749179&sr=8-24',\n",
              " '/Refurbished-HP-Chromebook-Bluetooth-Graphics/dp/B0D335SPLQ/ref=sr_1_25?dib=eyJ2IjoiMSJ9.YUnmx2YELa7H4kpM8JQeLDWYLym1lFFZnujgcEBkyI16A83rMbMptczD8XbistNUGD_7307nHxP2z4F14obhvdsnGBG5kgpxtz-wcD-_JOH3Isi3ldUStpsknUyYNaMkBheWAkdplQqe-EApU7pWlSWt1J87MXsD6CIt74UVtMi0v-4Cnmc5z6PmYWpmqHpr2Ug3DRcQdn7GQfwWn0gM0pAEM1PClAArYDpv_gy18zc.1_CbtjcfIzpXADpMH_3_PxukibIE1p6WZjMsD4vL1FI&dib_tag=se&keywords=laptop&qid=1721749179&sr=8-25',\n",
              " '/HP-i3-1215U-Graphics-Speakers-dy5008TU/dp/B0BZS88YPT/ref=sr_1_26?dib=eyJ2IjoiMSJ9.YUnmx2YELa7H4kpM8JQeLDWYLym1lFFZnujgcEBkyI16A83rMbMptczD8XbistNUGD_7307nHxP2z4F14obhvdsnGBG5kgpxtz-wcD-_JOH3Isi3ldUStpsknUyYNaMkBheWAkdplQqe-EApU7pWlSWt1J87MXsD6CIt74UVtMi0v-4Cnmc5z6PmYWpmqHpr2Ug3DRcQdn7GQfwWn0gM0pAEM1PClAArYDpv_gy18zc.1_CbtjcfIzpXADpMH_3_PxukibIE1p6WZjMsD4vL1FI&dib_tag=se&keywords=laptop&qid=1721749179&sr=8-26',\n",
              " '/Lenovo-IdeaPad-39-62cm-Windows-82R400BGIN/dp/B09MM58Y7Q/ref=sr_1_27?dib=eyJ2IjoiMSJ9.YUnmx2YELa7H4kpM8JQeLDWYLym1lFFZnujgcEBkyI16A83rMbMptczD8XbistNUGD_7307nHxP2z4F14obhvdsnGBG5kgpxtz-wcD-_JOH3Isi3ldUStpsknUyYNaMkBheWAkdplQqe-EApU7pWlSWt1J87MXsD6CIt74UVtMi0v-4Cnmc5z6PmYWpmqHpr2Ug3DRcQdn7GQfwWn0gM0pAEM1PClAArYDpv_gy18zc.1_CbtjcfIzpXADpMH_3_PxukibIE1p6WZjMsD4vL1FI&dib_tag=se&keywords=laptop&qid=1721749179&sr=8-27',\n",
              " '/HP-15-6-inch-Graphics-Speakers-ey2001AU/dp/B0C9DDN2JB/ref=sr_1_28?dib=eyJ2IjoiMSJ9.YUnmx2YELa7H4kpM8JQeLDWYLym1lFFZnujgcEBkyI16A83rMbMptczD8XbistNUGD_7307nHxP2z4F14obhvdsnGBG5kgpxtz-wcD-_JOH3Isi3ldUStpsknUyYNaMkBheWAkdplQqe-EApU7pWlSWt1J87MXsD6CIt74UVtMi0v-4Cnmc5z6PmYWpmqHpr2Ug3DRcQdn7GQfwWn0gM0pAEM1PClAArYDpv_gy18zc.1_CbtjcfIzpXADpMH_3_PxukibIE1p6WZjMsD4vL1FI&dib_tag=se&keywords=laptop&qid=1721749179&sr=8-28',\n",
              " '/HP-i5-1235U-15-6-inch-graphics-fy5008TU/dp/B0D4M1XZ3D/ref=sr_1_29?dib=eyJ2IjoiMSJ9.YUnmx2YELa7H4kpM8JQeLDWYLym1lFFZnujgcEBkyI16A83rMbMptczD8XbistNUGD_7307nHxP2z4F14obhvdsnGBG5kgpxtz-wcD-_JOH3Isi3ldUStpsknUyYNaMkBheWAkdplQqe-EApU7pWlSWt1J87MXsD6CIt74UVtMi0v-4Cnmc5z6PmYWpmqHpr2Ug3DRcQdn7GQfwWn0gM0pAEM1PClAArYDpv_gy18zc.1_CbtjcfIzpXADpMH_3_PxukibIE1p6WZjMsD4vL1FI&dib_tag=se&keywords=laptop&qid=1721749179&sr=8-29',\n",
              " '/HP-i3-1315U-15-6-inch-Graphics-Speakers/dp/B0C3RF3HT3/ref=sr_1_30?dib=eyJ2IjoiMSJ9.YUnmx2YELa7H4kpM8JQeLDWYLym1lFFZnujgcEBkyI16A83rMbMptczD8XbistNUGD_7307nHxP2z4F14obhvdsnGBG5kgpxtz-wcD-_JOH3Isi3ldUStpsknUyYNaMkBheWAkdplQqe-EApU7pWlSWt1J87MXsD6CIt74UVtMi0v-4Cnmc5z6PmYWpmqHpr2Ug3DRcQdn7GQfwWn0gM0pAEM1PClAArYDpv_gy18zc.1_CbtjcfIzpXADpMH_3_PxukibIE1p6WZjMsD4vL1FI&dib_tag=se&keywords=laptop&qid=1721749179&sr=8-30',\n",
              " '/Dell-Laptop-i5-1235U-Processor-Spill-Resistant/dp/B0D2DNCMB4/ref=sr_1_31?dib=eyJ2IjoiMSJ9.YUnmx2YELa7H4kpM8JQeLDWYLym1lFFZnujgcEBkyI16A83rMbMptczD8XbistNUGD_7307nHxP2z4F14obhvdsnGBG5kgpxtz-wcD-_JOH3Isi3ldUStpsknUyYNaMkBheWAkdplQqe-EApU7pWlSWt1J87MXsD6CIt74UVtMi0v-4Cnmc5z6PmYWpmqHpr2Ug3DRcQdn7GQfwWn0gM0pAEM1PClAArYDpv_gy18zc.1_CbtjcfIzpXADpMH_3_PxukibIE1p6WZjMsD4vL1FI&dib_tag=se&keywords=laptop&qid=1721749179&sr=8-31',\n",
              " '/Dell-Smartchoice-G15-5530-Gaming-i5-13450HX/dp/B0CRKXDX83/ref=sr_1_32?dib=eyJ2IjoiMSJ9.YUnmx2YELa7H4kpM8JQeLDWYLym1lFFZnujgcEBkyI16A83rMbMptczD8XbistNUGD_7307nHxP2z4F14obhvdsnGBG5kgpxtz-wcD-_JOH3Isi3ldUStpsknUyYNaMkBheWAkdplQqe-EApU7pWlSWt1J87MXsD6CIt74UVtMi0v-4Cnmc5z6PmYWpmqHpr2Ug3DRcQdn7GQfwWn0gM0pAEM1PClAArYDpv_gy18zc.1_CbtjcfIzpXADpMH_3_PxukibIE1p6WZjMsD4vL1FI&dib_tag=se&keywords=laptop&qid=1721749179&sr=8-32',\n",
              " '/Dell-Inspiron-3530-i3-1305U-Comfortview/dp/B0C4ZM63RP/ref=sr_1_33?dib=eyJ2IjoiMSJ9.ywKU3HETe2S_zm3GYX_oHCBDBwPF60k77nr-kMEDOpDhgbxTgxQGXve2NVQimWOLiZZPrtC4r24S0ZeS8-HS_y59kjgfUX59UUvmW_Fyg4adPQzv1nO8eF4Xg_3if_35seWaWl1cP0GFEaX3V1I29yGCJsaDJGAOi2d82rSCKha40zNLxmamekfq-gK12ilbnCSMYn_qQG1sj3_R5PGkehSOIarPy5nH3gG9VdDRnz8.tX-UNEuyOWZbFvkouhjLpMd05TZlL0eqruPVxH4U1vc&dib_tag=se&keywords=laptop&qid=1721749184&sr=8-33',\n",
              " '/Refurbished-Dell-Latitude-Windows-Graphics/dp/B0D8BGMLGH/ref=sr_1_34?dib=eyJ2IjoiMSJ9.ywKU3HETe2S_zm3GYX_oHCBDBwPF60k77nr-kMEDOpDhgbxTgxQGXve2NVQimWOLiZZPrtC4r24S0ZeS8-HS_y59kjgfUX59UUvmW_Fyg4adPQzv1nO8eF4Xg_3if_35seWaWl1cP0GFEaX3V1I29yGCJsaDJGAOi2d82rSCKha40zNLxmamekfq-gK12ilbnCSMYn_qQG1sj3_R5PGkehSOIarPy5nH3gG9VdDRnz8.tX-UNEuyOWZbFvkouhjLpMd05TZlL0eqruPVxH4U1vc&dib_tag=se&keywords=laptop&qid=1721749184&sr=8-34',\n",
              " '/Lenovo-IdeaPad-i7-13620H-38-1cm-83EM008GIN/dp/B0D6NCVQZQ/ref=sr_1_35?dib=eyJ2IjoiMSJ9.ywKU3HETe2S_zm3GYX_oHCBDBwPF60k77nr-kMEDOpDhgbxTgxQGXve2NVQimWOLiZZPrtC4r24S0ZeS8-HS_y59kjgfUX59UUvmW_Fyg4adPQzv1nO8eF4Xg_3if_35seWaWl1cP0GFEaX3V1I29yGCJsaDJGAOi2d82rSCKha40zNLxmamekfq-gK12ilbnCSMYn_qQG1sj3_R5PGkehSOIarPy5nH3gG9VdDRnz8.tX-UNEuyOWZbFvkouhjLpMd05TZlL0eqruPVxH4U1vc&dib_tag=se&keywords=laptop&qid=1721749184&sr=8-35',\n",
              " '/ASUS-Vivobook-IntelCore-Fingerprint-X1404ZA-NK322WS/dp/B0CCPBPYSB/ref=sr_1_36?dib=eyJ2IjoiMSJ9.ywKU3HETe2S_zm3GYX_oHCBDBwPF60k77nr-kMEDOpDhgbxTgxQGXve2NVQimWOLiZZPrtC4r24S0ZeS8-HS_y59kjgfUX59UUvmW_Fyg4adPQzv1nO8eF4Xg_3if_35seWaWl1cP0GFEaX3V1I29yGCJsaDJGAOi2d82rSCKha40zNLxmamekfq-gK12ilbnCSMYn_qQG1sj3_R5PGkehSOIarPy5nH3gG9VdDRnz8.tX-UNEuyOWZbFvkouhjLpMd05TZlL0eqruPVxH4U1vc&dib_tag=se&keywords=laptop&qid=1721749184&sr=8-36',\n",
              " '/Lenovo-Smartchoice-i5-12450HX-Graphics-83GS003UIN/dp/B0CX8XPKWJ/ref=sr_1_37?dib=eyJ2IjoiMSJ9.ywKU3HETe2S_zm3GYX_oHCBDBwPF60k77nr-kMEDOpDhgbxTgxQGXve2NVQimWOLiZZPrtC4r24S0ZeS8-HS_y59kjgfUX59UUvmW_Fyg4adPQzv1nO8eF4Xg_3if_35seWaWl1cP0GFEaX3V1I29yGCJsaDJGAOi2d82rSCKha40zNLxmamekfq-gK12ilbnCSMYn_qQG1sj3_R5PGkehSOIarPy5nH3gG9VdDRnz8.tX-UNEuyOWZbFvkouhjLpMd05TZlL0eqruPVxH4U1vc&dib_tag=se&keywords=laptop&qid=1721749184&sr=8-37',\n",
              " '/HP-i3-1315U-14-inch-Graphics-gr0000TU/dp/B0C9DL7THT/ref=sr_1_38?dib=eyJ2IjoiMSJ9.ywKU3HETe2S_zm3GYX_oHCBDBwPF60k77nr-kMEDOpDhgbxTgxQGXve2NVQimWOLiZZPrtC4r24S0ZeS8-HS_y59kjgfUX59UUvmW_Fyg4adPQzv1nO8eF4Xg_3if_35seWaWl1cP0GFEaX3V1I29yGCJsaDJGAOi2d82rSCKha40zNLxmamekfq-gK12ilbnCSMYn_qQG1sj3_R5PGkehSOIarPy5nH3gG9VdDRnz8.tX-UNEuyOWZbFvkouhjLpMd05TZlL0eqruPVxH4U1vc&dib_tag=se&keywords=laptop&qid=1721749184&sr=8-38',\n",
              " '/HP-i3-1215U-Anti-Glare-Speakers-15s-fq5326TU/dp/B0CYQ257C1/ref=sr_1_39?dib=eyJ2IjoiMSJ9.ywKU3HETe2S_zm3GYX_oHCBDBwPF60k77nr-kMEDOpDhgbxTgxQGXve2NVQimWOLiZZPrtC4r24S0ZeS8-HS_y59kjgfUX59UUvmW_Fyg4adPQzv1nO8eF4Xg_3if_35seWaWl1cP0GFEaX3V1I29yGCJsaDJGAOi2d82rSCKha40zNLxmamekfq-gK12ilbnCSMYn_qQG1sj3_R5PGkehSOIarPy5nH3gG9VdDRnz8.tX-UNEuyOWZbFvkouhjLpMd05TZlL0eqruPVxH4U1vc&dib_tag=se&keywords=laptop&qid=1721749184&sr=8-39',\n",
              " '/Refurbished-Lenovo-ThinkPad-Windows-Graphics/dp/B0CR49QPM9/ref=sr_1_40?dib=eyJ2IjoiMSJ9.ywKU3HETe2S_zm3GYX_oHCBDBwPF60k77nr-kMEDOpDhgbxTgxQGXve2NVQimWOLiZZPrtC4r24S0ZeS8-HS_y59kjgfUX59UUvmW_Fyg4adPQzv1nO8eF4Xg_3if_35seWaWl1cP0GFEaX3V1I29yGCJsaDJGAOi2d82rSCKha40zNLxmamekfq-gK12ilbnCSMYn_qQG1sj3_R5PGkehSOIarPy5nH3gG9VdDRnz8.tX-UNEuyOWZbFvkouhjLpMd05TZlL0eqruPVxH4U1vc&dib_tag=se&keywords=laptop&qid=1721749184&sr=8-40',\n",
              " '/Dell-R5-5500U-35-56cm-Spill-Resistant-Keyboard/dp/B0CLH81BGH/ref=sr_1_41?dib=eyJ2IjoiMSJ9.ywKU3HETe2S_zm3GYX_oHCBDBwPF60k77nr-kMEDOpDhgbxTgxQGXve2NVQimWOLiZZPrtC4r24S0ZeS8-HS_y59kjgfUX59UUvmW_Fyg4adPQzv1nO8eF4Xg_3if_35seWaWl1cP0GFEaX3V1I29yGCJsaDJGAOi2d82rSCKha40zNLxmamekfq-gK12ilbnCSMYn_qQG1sj3_R5PGkehSOIarPy5nH3gG9VdDRnz8.tX-UNEuyOWZbFvkouhjLpMd05TZlL0eqruPVxH4U1vc&dib_tag=se&keywords=laptop&qid=1721749184&sr=8-41',\n",
              " '/Acer-Predator-Processor-Windows-PHN16-72/dp/B0CXPXW4VY/ref=sr_1_42?dib=eyJ2IjoiMSJ9.ywKU3HETe2S_zm3GYX_oHCBDBwPF60k77nr-kMEDOpDhgbxTgxQGXve2NVQimWOLiZZPrtC4r24S0ZeS8-HS_y59kjgfUX59UUvmW_Fyg4adPQzv1nO8eF4Xg_3if_35seWaWl1cP0GFEaX3V1I29yGCJsaDJGAOi2d82rSCKha40zNLxmamekfq-gK12ilbnCSMYn_qQG1sj3_R5PGkehSOIarPy5nH3gG9VdDRnz8.tX-UNEuyOWZbFvkouhjLpMd05TZlL0eqruPVxH4U1vc&dib_tag=se&keywords=laptop&qid=1721749184&sr=8-42',\n",
              " '/HP-i3-1215U-15-6-inch-graphics-speakers/dp/B0D4LZMJ5Z/ref=sr_1_43?dib=eyJ2IjoiMSJ9.ywKU3HETe2S_zm3GYX_oHCBDBwPF60k77nr-kMEDOpDhgbxTgxQGXve2NVQimWOLiZZPrtC4r24S0ZeS8-HS_y59kjgfUX59UUvmW_Fyg4adPQzv1nO8eF4Xg_3if_35seWaWl1cP0GFEaX3V1I29yGCJsaDJGAOi2d82rSCKha40zNLxmamekfq-gK12ilbnCSMYn_qQG1sj3_R5PGkehSOIarPy5nH3gG9VdDRnz8.tX-UNEuyOWZbFvkouhjLpMd05TZlL0eqruPVxH4U1vc&dib_tag=se&keywords=laptop&qid=1721749184&sr=8-43',\n",
              " '/ASUS-15-6-inch-Integrated-Transparent-X515MA-BR011W/dp/B09SGGB687/ref=sr_1_44?dib=eyJ2IjoiMSJ9.ywKU3HETe2S_zm3GYX_oHCBDBwPF60k77nr-kMEDOpDhgbxTgxQGXve2NVQimWOLiZZPrtC4r24S0ZeS8-HS_y59kjgfUX59UUvmW_Fyg4adPQzv1nO8eF4Xg_3if_35seWaWl1cP0GFEaX3V1I29yGCJsaDJGAOi2d82rSCKha40zNLxmamekfq-gK12ilbnCSMYn_qQG1sj3_R5PGkehSOIarPy5nH3gG9VdDRnz8.tX-UNEuyOWZbFvkouhjLpMd05TZlL0eqruPVxH4U1vc&dib_tag=se&keywords=laptop&qid=1721749184&sr=8-44',\n",
              " '/Acer-Smartchoice-Premium-Windows-AL15-41/dp/B0CWTSF1TK/ref=sr_1_45?dib=eyJ2IjoiMSJ9.ywKU3HETe2S_zm3GYX_oHCBDBwPF60k77nr-kMEDOpDhgbxTgxQGXve2NVQimWOLiZZPrtC4r24S0ZeS8-HS_y59kjgfUX59UUvmW_Fyg4adPQzv1nO8eF4Xg_3if_35seWaWl1cP0GFEaX3V1I29yGCJsaDJGAOi2d82rSCKha40zNLxmamekfq-gK12ilbnCSMYn_qQG1sj3_R5PGkehSOIarPy5nH3gG9VdDRnz8.tX-UNEuyOWZbFvkouhjLpMd05TZlL0eqruPVxH4U1vc&dib_tag=se&keywords=laptop&qid=1721749184&sr=8-45',\n",
              " '/Refurbished-Lenovo-ThinkPad-Windows-Graphics/dp/B0CR495DW5/ref=sr_1_46?dib=eyJ2IjoiMSJ9.ywKU3HETe2S_zm3GYX_oHCBDBwPF60k77nr-kMEDOpDhgbxTgxQGXve2NVQimWOLiZZPrtC4r24S0ZeS8-HS_y59kjgfUX59UUvmW_Fyg4adPQzv1nO8eF4Xg_3if_35seWaWl1cP0GFEaX3V1I29yGCJsaDJGAOi2d82rSCKha40zNLxmamekfq-gK12ilbnCSMYn_qQG1sj3_R5PGkehSOIarPy5nH3gG9VdDRnz8.tX-UNEuyOWZbFvkouhjLpMd05TZlL0eqruPVxH4U1vc&dib_tag=se&keywords=laptop&qid=1721749184&sr=8-46',\n",
              " '/ASUS-Vivobook-IntelCore-Fingerprint-X1404ZA-NK321WS/dp/B0CCP9PH92/ref=sr_1_47?dib=eyJ2IjoiMSJ9.ywKU3HETe2S_zm3GYX_oHCBDBwPF60k77nr-kMEDOpDhgbxTgxQGXve2NVQimWOLiZZPrtC4r24S0ZeS8-HS_y59kjgfUX59UUvmW_Fyg4adPQzv1nO8eF4Xg_3if_35seWaWl1cP0GFEaX3V1I29yGCJsaDJGAOi2d82rSCKha40zNLxmamekfq-gK12ilbnCSMYn_qQG1sj3_R5PGkehSOIarPy5nH3gG9VdDRnz8.tX-UNEuyOWZbFvkouhjLpMd05TZlL0eqruPVxH4U1vc&dib_tag=se&keywords=laptop&qid=1721749184&sr=8-47',\n",
              " '/HP-i3-1215U-15-6-inch-Anti-Glare-15s-fy5006TU/dp/B0CJBL2QWY/ref=sr_1_48?dib=eyJ2IjoiMSJ9.ywKU3HETe2S_zm3GYX_oHCBDBwPF60k77nr-kMEDOpDhgbxTgxQGXve2NVQimWOLiZZPrtC4r24S0ZeS8-HS_y59kjgfUX59UUvmW_Fyg4adPQzv1nO8eF4Xg_3if_35seWaWl1cP0GFEaX3V1I29yGCJsaDJGAOi2d82rSCKha40zNLxmamekfq-gK12ilbnCSMYn_qQG1sj3_R5PGkehSOIarPy5nH3gG9VdDRnz8.tX-UNEuyOWZbFvkouhjLpMd05TZlL0eqruPVxH4U1vc&dib_tag=se&keywords=laptop&qid=1721749184&sr=8-48']"
            ]
          },
          "metadata": {},
          "execution_count": 27
        }
      ]
    },
    {
      "cell_type": "code",
      "source": [
        "\n",
        "import re\n",
        "\n",
        "#text = '/HP-i3-1215U-15-6-inch-Anti-Glare-15s-fy5006TU/dp/B0CJBL2QWY/ref=sr_1_48?dib=eyJ2IjoiMSJ9.ywKU3HETe2S_zm3GYX_oHCBDBwPF60k77nr-kMEDOpDhgbxTgxQGXve2NVQimWOLiZZPrtC4r24S0ZeS8-HS_y59kjgfUX59UUvmW_Fyg4adPQzv1nO8eF4Xg_3if_35seWaWl1cP0GFEaX3V1I29yGCJsaDJGAOi2d82rSCKha40zNLxmamekfq-gK12ilbnCSMYn_qQG1sj3_R5PGkehSOIarPy5nH3gG9VdDRnz8.tX-UNEuyOWZbFvkouhjLpMd05TZlL0eqruPVxH4U1vc&dib_tag=se&keywords=laptop&qid=1721749184&sr=8-48'\n",
        "\n",
        "updated_links=[]\n",
        "for text in links:\n",
        "  pattern = r'^(.*?/dp/[A-Z0-9]+)'\n",
        "\n",
        "  match = re.match(pattern, text)\n",
        "  if match:\n",
        "    extracted_text = match.group(1)\n",
        "    updated_links.append(\"https://www.amazon.in\"+extracted_text)\n",
        "\n",
        "\n",
        "updated_links"
      ],
      "metadata": {
        "id": "I6VMLGEfQtCZ",
        "outputId": "6e610286-2e74-4446-94a8-0e248a78150f",
        "colab": {
          "base_uri": "https://localhost:8080/"
        }
      },
      "id": "I6VMLGEfQtCZ",
      "execution_count": 32,
      "outputs": [
        {
          "output_type": "execute_result",
          "data": {
            "text/plain": [
              "['https://www.amazon.in/Lenovo-Microsoft-Lifetime-Dual-core-Ethernet/dp/B0CR8VHCSV',\n",
              " 'https://www.amazon.in/Lenovo-IdeaPad-39-62cm-300nits-82K20289IN/dp/B0CL5L59Z9',\n",
              " 'https://www.amazon.in/Refurbished-Lenovo-ThinkPad-Windows-Graphics/dp/B0CR496TBN',\n",
              " 'https://www.amazon.in/HP-i5-1334U-15-6-inch-graphics-speakers/dp/B0CTKHG3F6',\n",
              " 'https://www.amazon.in/Acer-i5-1235U-Windows-Graphics-AL15-52/dp/B0CLTW4D7T',\n",
              " 'https://www.amazon.in/Lenovo-IdeaPad-39-62cm-Warranty-82RK006DIN/dp/B0B4JPC8GT',\n",
              " 'https://www.amazon.in/Apple-MacBook-Chip-13-inch-256GB/dp/B08N5W4NNB',\n",
              " 'https://www.amazon.in/HP-i5-1235U-15-6-inch-Anti-Glare-15s-fy5007TU/dp/B0CJBP38HR',\n",
              " 'https://www.amazon.in/Refurbished-HP-Chromebook-Bluetooth-Graphics/dp/B0D335SPLQ',\n",
              " 'https://www.amazon.in/HP-i3-1215U-Graphics-Speakers-dy5008TU/dp/B0BZS88YPT',\n",
              " 'https://www.amazon.in/Lenovo-IdeaPad-39-62cm-Windows-82R400BGIN/dp/B09MM58Y7Q',\n",
              " 'https://www.amazon.in/HP-15-6-inch-Graphics-Speakers-ey2001AU/dp/B0C9DDN2JB',\n",
              " 'https://www.amazon.in/HP-i5-1235U-15-6-inch-graphics-fy5008TU/dp/B0D4M1XZ3D',\n",
              " 'https://www.amazon.in/HP-i3-1315U-15-6-inch-Graphics-Speakers/dp/B0C3RF3HT3',\n",
              " 'https://www.amazon.in/Dell-Laptop-i5-1235U-Processor-Spill-Resistant/dp/B0D2DNCMB4',\n",
              " 'https://www.amazon.in/Dell-Smartchoice-G15-5530-Gaming-i5-13450HX/dp/B0CRKXDX83',\n",
              " 'https://www.amazon.in/Dell-Inspiron-3530-i3-1305U-Comfortview/dp/B0C4ZM63RP',\n",
              " 'https://www.amazon.in/Refurbished-Dell-Latitude-Windows-Graphics/dp/B0D8BGMLGH',\n",
              " 'https://www.amazon.in/Lenovo-IdeaPad-i7-13620H-38-1cm-83EM008GIN/dp/B0D6NCVQZQ',\n",
              " 'https://www.amazon.in/ASUS-Vivobook-IntelCore-Fingerprint-X1404ZA-NK322WS/dp/B0CCPBPYSB',\n",
              " 'https://www.amazon.in/Lenovo-Smartchoice-i5-12450HX-Graphics-83GS003UIN/dp/B0CX8XPKWJ',\n",
              " 'https://www.amazon.in/HP-i3-1315U-14-inch-Graphics-gr0000TU/dp/B0C9DL7THT',\n",
              " 'https://www.amazon.in/HP-i3-1215U-Anti-Glare-Speakers-15s-fq5326TU/dp/B0CYQ257C1',\n",
              " 'https://www.amazon.in/Refurbished-Lenovo-ThinkPad-Windows-Graphics/dp/B0CR49QPM9',\n",
              " 'https://www.amazon.in/Dell-R5-5500U-35-56cm-Spill-Resistant-Keyboard/dp/B0CLH81BGH',\n",
              " 'https://www.amazon.in/Acer-Predator-Processor-Windows-PHN16-72/dp/B0CXPXW4VY',\n",
              " 'https://www.amazon.in/HP-i3-1215U-15-6-inch-graphics-speakers/dp/B0D4LZMJ5Z',\n",
              " 'https://www.amazon.in/ASUS-15-6-inch-Integrated-Transparent-X515MA-BR011W/dp/B09SGGB687',\n",
              " 'https://www.amazon.in/Acer-Smartchoice-Premium-Windows-AL15-41/dp/B0CWTSF1TK',\n",
              " 'https://www.amazon.in/Refurbished-Lenovo-ThinkPad-Windows-Graphics/dp/B0CR495DW5',\n",
              " 'https://www.amazon.in/ASUS-Vivobook-IntelCore-Fingerprint-X1404ZA-NK321WS/dp/B0CCP9PH92',\n",
              " 'https://www.amazon.in/HP-i3-1215U-15-6-inch-Anti-Glare-15s-fy5006TU/dp/B0CJBL2QWY']"
            ]
          },
          "metadata": {},
          "execution_count": 32
        }
      ]
    },
    {
      "cell_type": "markdown",
      "source": [
        "# extracting product title details by inspecting html cde"
      ],
      "metadata": {
        "id": "wE2lp9cGcC49"
      },
      "id": "wE2lp9cGcC49"
    },
    {
      "cell_type": "code",
      "source": [
        "\n",
        "all_details = []\n",
        "for link in updated_links:\n",
        "  options = Options()\n",
        "  options.add_argument('--headless')\n",
        "  options.add_argument('--disable-gpu')\n",
        "  options.add_argument('--no-sandbox')\n",
        "  options.add_argument('--disable-dev-shm-usage')\n",
        "  driver = webdriver.Chrome(options=options)\n",
        "  driver.get(link)\n",
        "  time.sleep(2)\n",
        "  source = driver.page_source\n",
        "  soup = bs(source,'lxml')\n",
        "\n",
        "  # Find title\n",
        "  title_span = soup.find('span', {'id': 'productTitle'})\n",
        "  if title_span:\n",
        "    title = title_span.text.strip()\n",
        "    all_details.append(title)\n",
        "  else:\n",
        "    all_details.append(\"Title not found\")"
      ],
      "metadata": {
        "id": "TtKJD9jPX01A"
      },
      "id": "TtKJD9jPX01A",
      "execution_count": 45,
      "outputs": []
    },
    {
      "cell_type": "code",
      "source": [
        "all_details"
      ],
      "metadata": {
        "id": "5inqQ4mrX0_G",
        "outputId": "f3f8a975-a9d8-4b42-c2bf-7535d6351cbb",
        "colab": {
          "base_uri": "https://localhost:8080/"
        }
      },
      "id": "5inqQ4mrX0_G",
      "execution_count": 46,
      "outputs": [
        {
          "output_type": "execute_result",
          "data": {
            "text/plain": [
              "['Title not found',\n",
              " 'Title not found',\n",
              " 'Title not found',\n",
              " 'HP Laptop 15, 13th Gen Intel Core i5-1334U, 15.6-inch (39.6 cm), FHD, 16GB DDR4, 512GB SSD, Intel Iris Xe graphics, Backlit KB, MSO, Dual speakers (Win 11, Silver, 1.59 kg), fd0221TU',\n",
              " 'Title not found',\n",
              " 'Title not found',\n",
              " 'Apple MacBook Air Laptop M1 chip, 13.3-inch/33.74 cm Retina Display, 8GB RAM, 256GB SSD Storage, Backlit Keyboard, FaceTime HD Camera, Touch ID. Works with iPhone/iPad; Space Grey',\n",
              " 'Title not found',\n",
              " 'Title not found',\n",
              " 'HP Laptop 14s, 12th Gen Intel Core i3-1215U, 14-inch (35.6 cm), FHD, 8GB DDR4, 512GB SSD, Intel UHD graphics, Thin & light, Dual speakers (Win 11, MSO 2021, Silver, 1.46 kg), dy5008TU',\n",
              " 'Title not found',\n",
              " 'Title not found',\n",
              " 'Title not found',\n",
              " 'Title not found',\n",
              " 'Title not found',\n",
              " 'Title not found',\n",
              " 'Dell Inspiron 3530 Thin & Light Laptop, 13th Gen Intel Core i3-1305U/8GB/512GB SSD/15.6\" (39.62cm) 120Hz Refresh Rate on a FHD IPS Display/Windows 11 + MSO\\'21+McAfee 15 Month/Carbon Black/1.62kg',\n",
              " 'Title not found',\n",
              " 'Lenovo IdeaPad Slim 3 13th Gen Intel Core i7-13620H 15\" (38.1cm) FHD IPS 300 Nits Thin & Light Laptop (16GB/512GB SSD/Win 11/MSO 21/1Yr ADP Free/Alexa built-in/3 mon Game Pass/Grey/1.6Kg), 83EM008GIN',\n",
              " 'Title not found',\n",
              " 'Title not found',\n",
              " 'HP Laptop 14, 13th Gen Intel Core i3-1315U, 14-inch (35.6 cm), FHD, 8GB DDR4, 512GB SSD, Intel UHD Graphics, FHD Camera w/Privacy Shutter, Thin & Light (Win 11, MSO 2021, Blue, 1.4 kg), gr0000TU',\n",
              " 'Title not found',\n",
              " 'Title not found',\n",
              " 'Title not found',\n",
              " 'Title not found',\n",
              " 'Title not found',\n",
              " 'ASUS VivoBook 15 (2021) Thin and Light Laptop, Dual Core Intel Celeron N4020, 15.6-inch (39.62 cm) HD, (4GB RAM/256GB SSD/Integrated Graphics/Windows 11 Home/Transparent Silver/1.8 Kg), X515MA-BR011W',\n",
              " 'Title not found',\n",
              " 'Title not found',\n",
              " 'ASUS Vivobook 14 Thin and Light Laptop, IntelCore i3-1215U 12th Gen, 14\" (35.56 cm) FHD, (8 GB RAM/512GB SSD/Win11/Office 2021/Fingerprint/42WHr /Blue/1.40 kg), X1404ZA-NK321WS',\n",
              " 'Title not found']"
            ]
          },
          "metadata": {},
          "execution_count": 46
        }
      ]
    },
    {
      "cell_type": "markdown",
      "id": "917a29c9",
      "metadata": {
        "id": "917a29c9"
      },
      "source": [
        "## Getting Product Details"
      ]
    },
    {
      "cell_type": "code",
      "source": [
        "#use of headless selenium to get the dynamic content from amazon product page\n",
        "data =[]\n",
        "for product_link in updated_links:\n",
        "    options = Options()\n",
        "    options.add_argument('--headless')\n",
        "    options.add_argument('--disable-gpu')\n",
        "    options.add_argument('--no-sandbox')\n",
        "    options.add_argument('--disable-dev-shm-usage')\n",
        "    driver = webdriver.Chrome(options=options)\n",
        "    driver.get(product_link)\n",
        "    time.sleep(1)\n",
        "\n",
        "    source_code = driver.page_source\n",
        "    driver.quit()\n",
        "    product_soup =  bs(source_code,'lxml')\n",
        "    product_details={}\n",
        "    for details in product_soup.find_all('table',attrs={'id':'productDetails_techSpec_section_1'}):\n",
        "        product_details[details.th.text.rstrip()]=details.td.text.lstrip()\n",
        "\n",
        "    data.append(product_details)"
      ],
      "metadata": {
        "id": "lsp1xcnFLG1m"
      },
      "id": "lsp1xcnFLG1m",
      "execution_count": 48,
      "outputs": []
    },
    {
      "cell_type": "code",
      "execution_count": 50,
      "id": "22142610",
      "metadata": {
        "id": "22142610"
      },
      "outputs": [],
      "source": [
        "df1=pd.DataFrame(all_details)"
      ]
    },
    {
      "cell_type": "code",
      "execution_count": 51,
      "id": "b19bd268",
      "metadata": {
        "colab": {
          "base_uri": "https://localhost:8080/",
          "height": 206
        },
        "id": "b19bd268",
        "outputId": "555a6456-efbf-496a-f025-33cf323287db"
      },
      "outputs": [
        {
          "output_type": "execute_result",
          "data": {
            "text/plain": [
              "                                                    0\n",
              "27  ASUS VivoBook 15 (2021) Thin and Light Laptop,...\n",
              "28                                    Title not found\n",
              "29                                    Title not found\n",
              "30  ASUS Vivobook 14 Thin and Light Laptop, IntelC...\n",
              "31                                    Title not found"
            ],
            "text/html": [
              "\n",
              "  <div id=\"df-e9a6682d-d611-40cf-9593-a99cdcf9c9a0\" class=\"colab-df-container\">\n",
              "    <div>\n",
              "<style scoped>\n",
              "    .dataframe tbody tr th:only-of-type {\n",
              "        vertical-align: middle;\n",
              "    }\n",
              "\n",
              "    .dataframe tbody tr th {\n",
              "        vertical-align: top;\n",
              "    }\n",
              "\n",
              "    .dataframe thead th {\n",
              "        text-align: right;\n",
              "    }\n",
              "</style>\n",
              "<table border=\"1\" class=\"dataframe\">\n",
              "  <thead>\n",
              "    <tr style=\"text-align: right;\">\n",
              "      <th></th>\n",
              "      <th>0</th>\n",
              "    </tr>\n",
              "  </thead>\n",
              "  <tbody>\n",
              "    <tr>\n",
              "      <th>27</th>\n",
              "      <td>ASUS VivoBook 15 (2021) Thin and Light Laptop,...</td>\n",
              "    </tr>\n",
              "    <tr>\n",
              "      <th>28</th>\n",
              "      <td>Title not found</td>\n",
              "    </tr>\n",
              "    <tr>\n",
              "      <th>29</th>\n",
              "      <td>Title not found</td>\n",
              "    </tr>\n",
              "    <tr>\n",
              "      <th>30</th>\n",
              "      <td>ASUS Vivobook 14 Thin and Light Laptop, IntelC...</td>\n",
              "    </tr>\n",
              "    <tr>\n",
              "      <th>31</th>\n",
              "      <td>Title not found</td>\n",
              "    </tr>\n",
              "  </tbody>\n",
              "</table>\n",
              "</div>\n",
              "    <div class=\"colab-df-buttons\">\n",
              "\n",
              "  <div class=\"colab-df-container\">\n",
              "    <button class=\"colab-df-convert\" onclick=\"convertToInteractive('df-e9a6682d-d611-40cf-9593-a99cdcf9c9a0')\"\n",
              "            title=\"Convert this dataframe to an interactive table.\"\n",
              "            style=\"display:none;\">\n",
              "\n",
              "  <svg xmlns=\"http://www.w3.org/2000/svg\" height=\"24px\" viewBox=\"0 -960 960 960\">\n",
              "    <path d=\"M120-120v-720h720v720H120Zm60-500h600v-160H180v160Zm220 220h160v-160H400v160Zm0 220h160v-160H400v160ZM180-400h160v-160H180v160Zm440 0h160v-160H620v160ZM180-180h160v-160H180v160Zm440 0h160v-160H620v160Z\"/>\n",
              "  </svg>\n",
              "    </button>\n",
              "\n",
              "  <style>\n",
              "    .colab-df-container {\n",
              "      display:flex;\n",
              "      gap: 12px;\n",
              "    }\n",
              "\n",
              "    .colab-df-convert {\n",
              "      background-color: #E8F0FE;\n",
              "      border: none;\n",
              "      border-radius: 50%;\n",
              "      cursor: pointer;\n",
              "      display: none;\n",
              "      fill: #1967D2;\n",
              "      height: 32px;\n",
              "      padding: 0 0 0 0;\n",
              "      width: 32px;\n",
              "    }\n",
              "\n",
              "    .colab-df-convert:hover {\n",
              "      background-color: #E2EBFA;\n",
              "      box-shadow: 0px 1px 2px rgba(60, 64, 67, 0.3), 0px 1px 3px 1px rgba(60, 64, 67, 0.15);\n",
              "      fill: #174EA6;\n",
              "    }\n",
              "\n",
              "    .colab-df-buttons div {\n",
              "      margin-bottom: 4px;\n",
              "    }\n",
              "\n",
              "    [theme=dark] .colab-df-convert {\n",
              "      background-color: #3B4455;\n",
              "      fill: #D2E3FC;\n",
              "    }\n",
              "\n",
              "    [theme=dark] .colab-df-convert:hover {\n",
              "      background-color: #434B5C;\n",
              "      box-shadow: 0px 1px 3px 1px rgba(0, 0, 0, 0.15);\n",
              "      filter: drop-shadow(0px 1px 2px rgba(0, 0, 0, 0.3));\n",
              "      fill: #FFFFFF;\n",
              "    }\n",
              "  </style>\n",
              "\n",
              "    <script>\n",
              "      const buttonEl =\n",
              "        document.querySelector('#df-e9a6682d-d611-40cf-9593-a99cdcf9c9a0 button.colab-df-convert');\n",
              "      buttonEl.style.display =\n",
              "        google.colab.kernel.accessAllowed ? 'block' : 'none';\n",
              "\n",
              "      async function convertToInteractive(key) {\n",
              "        const element = document.querySelector('#df-e9a6682d-d611-40cf-9593-a99cdcf9c9a0');\n",
              "        const dataTable =\n",
              "          await google.colab.kernel.invokeFunction('convertToInteractive',\n",
              "                                                    [key], {});\n",
              "        if (!dataTable) return;\n",
              "\n",
              "        const docLinkHtml = 'Like what you see? Visit the ' +\n",
              "          '<a target=\"_blank\" href=https://colab.research.google.com/notebooks/data_table.ipynb>data table notebook</a>'\n",
              "          + ' to learn more about interactive tables.';\n",
              "        element.innerHTML = '';\n",
              "        dataTable['output_type'] = 'display_data';\n",
              "        await google.colab.output.renderOutput(dataTable, element);\n",
              "        const docLink = document.createElement('div');\n",
              "        docLink.innerHTML = docLinkHtml;\n",
              "        element.appendChild(docLink);\n",
              "      }\n",
              "    </script>\n",
              "  </div>\n",
              "\n",
              "\n",
              "<div id=\"df-77a5764f-f6ef-4852-84a2-4c03610cbda0\">\n",
              "  <button class=\"colab-df-quickchart\" onclick=\"quickchart('df-77a5764f-f6ef-4852-84a2-4c03610cbda0')\"\n",
              "            title=\"Suggest charts\"\n",
              "            style=\"display:none;\">\n",
              "\n",
              "<svg xmlns=\"http://www.w3.org/2000/svg\" height=\"24px\"viewBox=\"0 0 24 24\"\n",
              "     width=\"24px\">\n",
              "    <g>\n",
              "        <path d=\"M19 3H5c-1.1 0-2 .9-2 2v14c0 1.1.9 2 2 2h14c1.1 0 2-.9 2-2V5c0-1.1-.9-2-2-2zM9 17H7v-7h2v7zm4 0h-2V7h2v10zm4 0h-2v-4h2v4z\"/>\n",
              "    </g>\n",
              "</svg>\n",
              "  </button>\n",
              "\n",
              "<style>\n",
              "  .colab-df-quickchart {\n",
              "      --bg-color: #E8F0FE;\n",
              "      --fill-color: #1967D2;\n",
              "      --hover-bg-color: #E2EBFA;\n",
              "      --hover-fill-color: #174EA6;\n",
              "      --disabled-fill-color: #AAA;\n",
              "      --disabled-bg-color: #DDD;\n",
              "  }\n",
              "\n",
              "  [theme=dark] .colab-df-quickchart {\n",
              "      --bg-color: #3B4455;\n",
              "      --fill-color: #D2E3FC;\n",
              "      --hover-bg-color: #434B5C;\n",
              "      --hover-fill-color: #FFFFFF;\n",
              "      --disabled-bg-color: #3B4455;\n",
              "      --disabled-fill-color: #666;\n",
              "  }\n",
              "\n",
              "  .colab-df-quickchart {\n",
              "    background-color: var(--bg-color);\n",
              "    border: none;\n",
              "    border-radius: 50%;\n",
              "    cursor: pointer;\n",
              "    display: none;\n",
              "    fill: var(--fill-color);\n",
              "    height: 32px;\n",
              "    padding: 0;\n",
              "    width: 32px;\n",
              "  }\n",
              "\n",
              "  .colab-df-quickchart:hover {\n",
              "    background-color: var(--hover-bg-color);\n",
              "    box-shadow: 0 1px 2px rgba(60, 64, 67, 0.3), 0 1px 3px 1px rgba(60, 64, 67, 0.15);\n",
              "    fill: var(--button-hover-fill-color);\n",
              "  }\n",
              "\n",
              "  .colab-df-quickchart-complete:disabled,\n",
              "  .colab-df-quickchart-complete:disabled:hover {\n",
              "    background-color: var(--disabled-bg-color);\n",
              "    fill: var(--disabled-fill-color);\n",
              "    box-shadow: none;\n",
              "  }\n",
              "\n",
              "  .colab-df-spinner {\n",
              "    border: 2px solid var(--fill-color);\n",
              "    border-color: transparent;\n",
              "    border-bottom-color: var(--fill-color);\n",
              "    animation:\n",
              "      spin 1s steps(1) infinite;\n",
              "  }\n",
              "\n",
              "  @keyframes spin {\n",
              "    0% {\n",
              "      border-color: transparent;\n",
              "      border-bottom-color: var(--fill-color);\n",
              "      border-left-color: var(--fill-color);\n",
              "    }\n",
              "    20% {\n",
              "      border-color: transparent;\n",
              "      border-left-color: var(--fill-color);\n",
              "      border-top-color: var(--fill-color);\n",
              "    }\n",
              "    30% {\n",
              "      border-color: transparent;\n",
              "      border-left-color: var(--fill-color);\n",
              "      border-top-color: var(--fill-color);\n",
              "      border-right-color: var(--fill-color);\n",
              "    }\n",
              "    40% {\n",
              "      border-color: transparent;\n",
              "      border-right-color: var(--fill-color);\n",
              "      border-top-color: var(--fill-color);\n",
              "    }\n",
              "    60% {\n",
              "      border-color: transparent;\n",
              "      border-right-color: var(--fill-color);\n",
              "    }\n",
              "    80% {\n",
              "      border-color: transparent;\n",
              "      border-right-color: var(--fill-color);\n",
              "      border-bottom-color: var(--fill-color);\n",
              "    }\n",
              "    90% {\n",
              "      border-color: transparent;\n",
              "      border-bottom-color: var(--fill-color);\n",
              "    }\n",
              "  }\n",
              "</style>\n",
              "\n",
              "  <script>\n",
              "    async function quickchart(key) {\n",
              "      const quickchartButtonEl =\n",
              "        document.querySelector('#' + key + ' button');\n",
              "      quickchartButtonEl.disabled = true;  // To prevent multiple clicks.\n",
              "      quickchartButtonEl.classList.add('colab-df-spinner');\n",
              "      try {\n",
              "        const charts = await google.colab.kernel.invokeFunction(\n",
              "            'suggestCharts', [key], {});\n",
              "      } catch (error) {\n",
              "        console.error('Error during call to suggestCharts:', error);\n",
              "      }\n",
              "      quickchartButtonEl.classList.remove('colab-df-spinner');\n",
              "      quickchartButtonEl.classList.add('colab-df-quickchart-complete');\n",
              "    }\n",
              "    (() => {\n",
              "      let quickchartButtonEl =\n",
              "        document.querySelector('#df-77a5764f-f6ef-4852-84a2-4c03610cbda0 button');\n",
              "      quickchartButtonEl.style.display =\n",
              "        google.colab.kernel.accessAllowed ? 'block' : 'none';\n",
              "    })();\n",
              "  </script>\n",
              "</div>\n",
              "\n",
              "    </div>\n",
              "  </div>\n"
            ],
            "application/vnd.google.colaboratory.intrinsic+json": {
              "type": "dataframe",
              "summary": "{\n  \"name\": \"df1\",\n  \"rows\": 5,\n  \"fields\": [\n    {\n      \"column\": 0,\n      \"properties\": {\n        \"dtype\": \"string\",\n        \"num_unique_values\": 3,\n        \"samples\": [\n          \"ASUS VivoBook 15 (2021) Thin and Light Laptop, Dual Core Intel Celeron N4020, 15.6-inch (39.62 cm) HD, (4GB RAM/256GB SSD/Integrated Graphics/Windows 11 Home/Transparent Silver/1.8 Kg), X515MA-BR011W\",\n          \"Title not found\",\n          \"ASUS Vivobook 14 Thin and Light Laptop, IntelCore i3-1215U 12th Gen, 14\\\" (35.56 cm) FHD, (8 GB RAM/512GB SSD/Win11/Office 2021/Fingerprint/42WHr /Blue/1.40 kg), X1404ZA-NK321WS\"\n        ],\n        \"semantic_type\": \"\",\n        \"description\": \"\"\n      }\n    }\n  ]\n}"
            }
          },
          "metadata": {},
          "execution_count": 51
        }
      ],
      "source": [
        "df1.tail()"
      ]
    },
    {
      "cell_type": "code",
      "source": [
        "# keep on extracting with different ids"
      ],
      "metadata": {
        "id": "wa7B4cqNca0k"
      },
      "id": "wa7B4cqNca0k",
      "execution_count": 52,
      "outputs": []
    }
  ],
  "metadata": {
    "kernelspec": {
      "display_name": "Python 3 (ipykernel)",
      "language": "python",
      "name": "python3"
    },
    "language_info": {
      "codemirror_mode": {
        "name": "ipython",
        "version": 3
      },
      "file_extension": ".py",
      "mimetype": "text/x-python",
      "name": "python",
      "nbconvert_exporter": "python",
      "pygments_lexer": "ipython3",
      "version": "3.9.5"
    },
    "colab": {
      "provenance": []
    }
  },
  "nbformat": 4,
  "nbformat_minor": 5
}